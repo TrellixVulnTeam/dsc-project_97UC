{
  "nbformat": 4,
  "nbformat_minor": 0,
  "metadata": {
    "colab": {
      "name": "final_model.ipynb",
      "provenance": [],
      "collapsed_sections": []
    },
    "kernelspec": {
      "name": "python3",
      "display_name": "Python 3"
    },
    "language_info": {
      "name": "python"
    },
    "accelerator": "GPU"
  },
  "cells": [
    {
      "cell_type": "code",
      "source": [
        "# Connect to google drive to access requirements.txt\n",
        "\n",
        "from google.colab import drive\n",
        "drive.mount('/content/gdrive')"
      ],
      "metadata": {
        "id": "yCGBRFmB0vZH"
      },
      "execution_count": null,
      "outputs": []
    },
    {
      "cell_type": "code",
      "source": [
        "pip install --upgrade --force-reinstall `cat /content/gdrive/My\\ Drive/requirements.txt`"
      ],
      "metadata": {
        "id": "OPj02rhC2tq6"
      },
      "execution_count": null,
      "outputs": []
    },
    {
      "cell_type": "code",
      "source": [
        "# Load required dependencies \n",
        "\n",
        "import torch\n",
        "import zipfile\n",
        "import torchaudio\n",
        "from glob import glob\n",
        "from logmmse import logmmse # run !pip install -q logmmse first\n",
        "from transformers import PegasusForConditionalGeneration, PegasusTokenizer"
      ],
      "metadata": {
        "id": "uHhWWrFpATXp"
      },
      "execution_count": null,
      "outputs": []
    },
    {
      "cell_type": "code",
      "source": [
        "# Ensure that cuda is available\n",
        "\n",
        "torch.cuda.is_available()"
      ],
      "metadata": {
        "id": "_Vc9XrzHz7VM"
      },
      "execution_count": null,
      "outputs": []
    },
    {
      "cell_type": "code",
      "source": [
        "class SpeechToText:\n",
        "  \"\"\"\n",
        "  Convert audio files to text using the Silero speech-to-text model\n",
        "  \"\"\"\n",
        "\n",
        "  def __init__(self, text_files):\n",
        "    self.text_files = text_files\n",
        "\n",
        "  def convert(self):\n",
        "    \n",
        "    # Load Silero model \n",
        "\n",
        "    device = torch.device(\"cuda\" if torch.cuda.is_available() else 'cpu')  \n",
        "\n",
        "    silero_model, decoder, utils = torch.hub.load(repo_or_dir='snakers4/silero-models',\n",
        "                                          model='silero_stt',\n",
        "                                          language='en', \n",
        "                                          device=device)  \n",
        "    (read_batch, split_into_batches,\n",
        "    read_audio, prepare_model_input) = utils  \n",
        "\n",
        "    # Use the Log Minimum Mean Square Error algorithm to enhance audio quality \n",
        "\n",
        "    enhanced_audio = logmmse(np.array(self.test_files[0]), sample_rate, output_file=None, initial_noise=1, window_size=160, noise_threshold=0.15)\n",
        "\n",
        "    # Use batch normalization to improve model performance\n",
        "\n",
        "    batches = split_into_batches(enhanced_audio, batch_size=10)\n",
        "    input = prepare_model_input(read_batch(batches[0]),\n",
        "                            device=device)\n",
        "\n",
        "    output = silero_model(input)\n",
        "\n",
        "    return output\n",
        "  \n",
        "  def format_text(self, output):\n",
        "\n",
        "    # Add punctuation and recapitilize characters in output from speech to text conversion\n",
        "\n",
        "    silero_model, example_texts, languages, punct, apply_te = torch.hub.load(repo_or_dir='snakers4/silero-models',\n",
        "                                                                      model='silero_te')\n",
        "    output_text = ''\n",
        "    \n",
        "    for example in output:\n",
        "      print(decoder(example.cpu()));\n",
        "      input_text = decoder(example.cpu())\n",
        "      print(apply_te(input_text, lan='en'))\n",
        "      output_text += apply_te(input_text, lan='en')\n",
        "    \n",
        "    print(output_text)\n",
        "\n",
        "    return output_text\n",
        "\n",
        "if __name__ == \"main\": \n",
        "\n",
        "    test_files = glob('ted_talk.wav')\n",
        "\n",
        "    speech_to_text = SpeechToText(text_files)\n",
        "    output = ruspeech_to_textn.convert() \n",
        "    output_text = speech_to_text.format_text()"
      ],
      "metadata": {
        "id": "X5CxmUi5Bifd"
      },
      "execution_count": null,
      "outputs": []
    },
    {
      "cell_type": "code",
      "source": [
        "# TODO: work on beam length to ensure that the summarized text is not only a sentence long\n",
        "\n",
        "class AbstractiveSummarization:\n",
        "  \"\"\"\n",
        "  Perform abstractive text summarization using the Pegasus model \n",
        "  \"\"\"\n",
        "  def __init__(self, input_text):\n",
        "    self.input_text = input_text\n",
        "\n",
        "  def Summarize(self):   \n",
        "\n",
        "    # Load Pegasus model\n",
        "\n",
        "    model_name = \"google/pegasus-xsum\"\n",
        "    pegasus_model = PegasusForConditionalGeneration.from_pretrained(model_name).to(device)\n",
        "    tokenizer = PegasusTokenizer.from_pretrained(model_name)\n",
        "    tokens = tokenizer(self.input_text, batched=True, truncation=True, padding='longest', return_tensors='pt').to(device)\n",
        "    \n",
        "    # Generate new set of token sequences\n",
        "    \n",
        "    summary = pegasus_model.generate(**tokens)\n",
        "    decoded_summary = tokenizer.decode(summary[0])\n",
        "\n",
        "    return decoded_summary\n",
        "\n",
        "if __name__ == \"main\": \n",
        "\n",
        "  summarize = AbstractiveSummarization(output_text)"
      ],
      "metadata": {
        "id": "gPC93MlyYPXn"
      },
      "execution_count": null,
      "outputs": []
    },
    {
      "cell_type": "code",
      "source": [
        "# Load more required dependencies\n",
        "\n",
        "from transformers import Trainer, TrainingArguments, PegasusTokenizer, DataCollatorWithPadding\n",
        "from datasets import load_dataset\n",
        "import pandas as pd\n",
        "\n",
        "# TODO: create dataset based off of lecture files, use array as possible dataframe using pandas \n",
        "\n",
        "# df = pd.read_csv(r\"\")\n",
        "# full_df = pd.DataFrame(data=targets_data)\n",
        "\n",
        "class PegasusTraining:\n",
        "  \"\"\"\n",
        "  Finetuning the Pegasus model \n",
        "  \"\"\"\n",
        "\n",
        "  def __init__(self, dataset_path):\n",
        "    self.dataset_name = dataset_path\n",
        "\n",
        "  def preprocess(data):\n",
        "    return tokenizer(data[\"text\"], truncation=True)\n",
        "  \n",
        "  def TrainModel():\n",
        "    pegasus_training_model=PegasusForConditionalGeneration.from_pretrained(model_name, num_labels=2).to(device)\n",
        "\n",
        "    summarization_dataset = load_dataset(\"csv\", data_files=self.datasetpath, sep=\";\")\n",
        "    summarization_dataset[\"train\"][0]\n",
        "    tokenizer = PegasusTokenizer.from_pretrained(\"google/pegasus-xsum\")\n",
        "    tokenized_dataset = summarization_dataset.map(preprocess, batched=True)\n",
        "    data_collator = DataCollatorWithPadding(tokenizer=tokenizer)\n",
        "\n",
        "    # TODO: tailor arguments to our data and set up instantiation\n",
        "\n",
        "    training_args = TrainingArguments(\n",
        "        output_dir=\"./results\",\n",
        "        learning_rate=2e-5,\n",
        "        per_device_train_batch_size=16,     \n",
        "        per_device_eval_batch_size=16,      \n",
        "        num_train_epochs=5,\n",
        "        weight_decay=0.01,\n",
        "    )\n",
        "\n",
        "    trainer = Trainer(\n",
        "        model=pegasus_training_model,\n",
        "        args=training_args,\n",
        "        train_dataset=tokenized_dataset[\"train\"],\n",
        "        eval_dataset=tokenized_dataset[\"test\"],\n",
        "        tokenizer=tokenizer,\n",
        "        data_collator=data_collator,\n",
        "    )\n",
        "\n",
        "    trainer.train()\n",
        "\n",
        "if __name__ == \"main\": \n",
        "\n",
        "  # dataset_path = \n",
        "  training = PegasusTraining(dataset_path)"
      ],
      "metadata": {
        "id": "LmvMrC1K7QkU"
      },
      "execution_count": null,
      "outputs": []
    },
    {
      "cell_type": "code",
      "source": [
        "# Potential backend\n",
        "\n",
        "pip install flask-sqlalchemy"
      ],
      "metadata": {
        "colab": {
          "base_uri": "https://localhost:8080/"
        },
        "id": "2MiFUoFgnk1u",
        "outputId": "d68923e9-280f-425f-be9e-875c5bc1f72d"
      },
      "execution_count": null,
      "outputs": [
        {
          "output_type": "stream",
          "name": "stdout",
          "text": [
            "Requirement already satisfied: flask-sqlalchemy in /usr/local/lib/python3.7/dist-packages (2.5.1)\n",
            "Requirement already satisfied: Flask>=0.10 in /usr/local/lib/python3.7/dist-packages (from flask-sqlalchemy) (1.1.4)\n",
            "Requirement already satisfied: SQLAlchemy>=0.8.0 in /usr/local/lib/python3.7/dist-packages (from flask-sqlalchemy) (1.4.32)\n",
            "Requirement already satisfied: click<8.0,>=5.1 in /usr/local/lib/python3.7/dist-packages (from Flask>=0.10->flask-sqlalchemy) (7.1.2)\n",
            "Requirement already satisfied: Werkzeug<2.0,>=0.15 in /usr/local/lib/python3.7/dist-packages (from Flask>=0.10->flask-sqlalchemy) (1.0.1)\n",
            "Requirement already satisfied: itsdangerous<2.0,>=0.24 in /usr/local/lib/python3.7/dist-packages (from Flask>=0.10->flask-sqlalchemy) (1.1.0)\n",
            "Requirement already satisfied: Jinja2<3.0,>=2.10.1 in /usr/local/lib/python3.7/dist-packages (from Flask>=0.10->flask-sqlalchemy) (2.11.3)\n",
            "Requirement already satisfied: MarkupSafe>=0.23 in /usr/local/lib/python3.7/dist-packages (from Jinja2<3.0,>=2.10.1->Flask>=0.10->flask-sqlalchemy) (2.0.1)\n",
            "Requirement already satisfied: importlib-metadata in /usr/local/lib/python3.7/dist-packages (from SQLAlchemy>=0.8.0->flask-sqlalchemy) (4.11.2)\n",
            "Requirement already satisfied: greenlet!=0.4.17 in /usr/local/lib/python3.7/dist-packages (from SQLAlchemy>=0.8.0->flask-sqlalchemy) (1.1.2)\n",
            "Requirement already satisfied: zipp>=0.5 in /usr/local/lib/python3.7/dist-packages (from importlib-metadata->SQLAlchemy>=0.8.0->flask-sqlalchemy) (3.7.0)\n",
            "Requirement already satisfied: typing-extensions>=3.6.4 in /usr/local/lib/python3.7/dist-packages (from importlib-metadata->SQLAlchemy>=0.8.0->flask-sqlalchemy) (3.10.0.2)\n"
          ]
        }
      ]
    },
    {
      "cell_type": "code",
      "source": [
        "#server.py\n",
        "\n",
        "from flask import Flask, jsonify\n",
        "from flask_sqlalchemy import SQLAlchemy\n",
        "import requests\n",
        "\n",
        "# Also if theres another preferred ORM pls change\n",
        "\n",
        "\n",
        "app = Flask(__name__)\n",
        "app.config[\"DB_URI\"] = \"DBLURL\" # Ernest said SQLite?\n",
        "db = SQLAlchemy(app)\n",
        "\n",
        "# create DB model\n",
        "\n",
        "@app.route(\"/site\", methods=[\"POST\"])\n",
        "def input():\n",
        "  request_data = json.loads(request.data)\n",
        "\n",
        "def format(final_text):\n",
        "  return {\n",
        "      \"key\": final_text.\"tag\"\n",
        "      \"value\":final_text.\"summary\"\n",
        "      } \n",
        "\n",
        "@app.route(\"/site/output\", methods=[\"GET\"])\n",
        "def output():\n",
        "  return jsonify([*map(format, )])\n",
        "\n",
        "  #unpack map\n",
        "  # Format json for react front end\n",
        "\n",
        "if __name__ == \"main\":\n",
        "  app.run(debug=True)"
      ],
      "metadata": {
        "id": "J68-2h9nhhu6"
      },
      "execution_count": null,
      "outputs": []
    },
    {
      "cell_type": "code",
      "source": [
        "!nvidia-smi"
      ],
      "metadata": {
        "colab": {
          "base_uri": "https://localhost:8080/"
        },
        "id": "bRi-9EkvjggT",
        "outputId": "64e1896d-5d02-42e7-f0a4-4f715803c683"
      },
      "execution_count": null,
      "outputs": [
        {
          "output_type": "stream",
          "name": "stdout",
          "text": [
            "Sat Mar 12 05:16:48 2022       \n",
            "+-----------------------------------------------------------------------------+\n",
            "| NVIDIA-SMI 460.32.03    Driver Version: 460.32.03    CUDA Version: 11.2     |\n",
            "|-------------------------------+----------------------+----------------------+\n",
            "| GPU  Name        Persistence-M| Bus-Id        Disp.A | Volatile Uncorr. ECC |\n",
            "| Fan  Temp  Perf  Pwr:Usage/Cap|         Memory-Usage | GPU-Util  Compute M. |\n",
            "|                               |                      |               MIG M. |\n",
            "|===============================+======================+======================|\n",
            "|   0  Tesla K80           Off  | 00000000:00:04.0 Off |                    0 |\n",
            "| N/A   32C    P8    29W / 149W |      0MiB / 11441MiB |      0%      Default |\n",
            "|                               |                      |                  N/A |\n",
            "+-------------------------------+----------------------+----------------------+\n",
            "                                                                               \n",
            "+-----------------------------------------------------------------------------+\n",
            "| Processes:                                                                  |\n",
            "|  GPU   GI   CI        PID   Type   Process name                  GPU Memory |\n",
            "|        ID   ID                                                   Usage      |\n",
            "|=============================================================================|\n",
            "|  No running processes found                                                 |\n",
            "+-----------------------------------------------------------------------------+\n"
          ]
        }
      ]
    }
  ]
}
