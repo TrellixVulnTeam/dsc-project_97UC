{
  "nbformat": 4,
  "nbformat_minor": 0,
  "metadata": {
    "colab": {
      "name": "BADDIEProject.ipynb",
      "provenance": [],
      "collapsed_sections": [],
      "include_colab_link": true
    },
    "kernelspec": {
      "name": "python3",
      "display_name": "Python 3"
    },
    "language_info": {
      "name": "python"
    },
    "accelerator": "GPU"
  },
  "cells": [
    {
      "cell_type": "markdown",
      "metadata": {
        "id": "view-in-github",
        "colab_type": "text"
      },
      "source": [
        "<a href=\"https://colab.research.google.com/github/ernest1027/dsc-project/blob/main/BADDIEProject.ipynb\" target=\"_parent\"><img src=\"https://colab.research.google.com/assets/colab-badge.svg\" alt=\"Open In Colab\"/></a>"
      ]
    },
    {
      "cell_type": "code",
      "source": [
        "from google.colab import drive\n",
        "drive.mount('/content/gdrive')"
      ],
      "metadata": {
        "colab": {
          "base_uri": "https://localhost:8080/"
        },
        "id": "yCGBRFmB0vZH",
        "outputId": "e14bfd5d-0b29-4bad-ea2c-205e69216bae"
      },
      "execution_count": null,
      "outputs": [
        {
          "output_type": "stream",
          "name": "stdout",
          "text": [
            "Drive already mounted at /content/gdrive; to attempt to forcibly remount, call drive.mount(\"/content/gdrive\", force_remount=True).\n"
          ]
        }
      ]
    },
    {
      "cell_type": "code",
      "source": [
        "pip install --upgrade --force-reinstall `cat /content/gdrive/My\\ Drive/BADDIE_installed.txt`"
      ],
      "metadata": {
        "id": "OPj02rhC2tq6"
      },
      "execution_count": null,
      "outputs": []
    },
    {
      "cell_type": "code",
      "source": [
        "import torch\n",
        "import zipfile\n",
        "import torchaudio\n",
        "from glob import glob"
      ],
      "metadata": {
        "id": "uHhWWrFpATXp"
      },
      "execution_count": null,
      "outputs": []
    },
    {
      "cell_type": "code",
      "source": [
        "torch.cuda.is_available()"
      ],
      "metadata": {
        "colab": {
          "base_uri": "https://localhost:8080/"
        },
        "id": "_Vc9XrzHz7VM",
        "outputId": "e15cfb09-3c67-4d2d-8574-defbab2ce215"
      },
      "execution_count": null,
      "outputs": [
        {
          "output_type": "execute_result",
          "data": {
            "text/plain": [
              "True"
            ]
          },
          "metadata": {},
          "execution_count": 5
        }
      ]
    },
    {
      "cell_type": "code",
      "source": [
        "#speech to text\n",
        "\n",
        "device = torch.device(\"cuda\" if torch.cuda.is_available() else 'cpu')  \n",
        "\n",
        "model, decoder, utils = torch.hub.load(repo_or_dir='snakers4/silero-models',\n",
        "                                       model='silero_stt',\n",
        "                                       language='en', \n",
        "                                       device=device)\n",
        "(read_batch, split_into_batches,\n",
        " read_audio, prepare_model_input) = utils  \n",
        "\n",
        "\n",
        "test_files = glob('ted_talk.wav')\n",
        "batches = split_into_batches(test_files, batch_size=10)\n",
        "input = prepare_model_input(read_batch(batches[0]),\n",
        "                            device=device)\n",
        "\n",
        "output = model(input)\n"
      ],
      "metadata": {
        "id": "X5CxmUi5Bifd"
      },
      "execution_count": null,
      "outputs": []
    },
    {
      "cell_type": "code",
      "source": [
        "#repunctuation\n",
        "\n",
        "model, example_texts, languages, punct, apply_te = torch.hub.load(repo_or_dir='snakers4/silero-models',\n",
        "                                                                  model='silero_te')\n",
        "output_text = ''\n",
        "for example in output:\n",
        "  print(decoder(example.cpu()));\n",
        "  input_text = decoder(example.cpu())\n",
        "  print(apply_te(input_text, lan='en'))\n",
        "  output_text += apply_te(input_text, lan='en')\n",
        "print(output_text)"
      ],
      "metadata": {
        "id": "mmZUI9AmB5b_"
      },
      "execution_count": null,
      "outputs": []
    },
    {
      "cell_type": "code",
      "source": [
        "# Best model that we can use for abstractive summarization, pre-trained with many quality datasets\n",
        "\n",
        "# Need to work on beam length to ensure that the summarized text is not only a sentence long\n",
        "from transformers import PegasusForConditionalGeneration, PegasusTokenizer\n",
        "\n",
        "\n",
        "class AbstractiveSummarization:\n",
        "  def __init__(self, input_text):\n",
        "    self.input_text = input_text\n",
        "\n",
        "  def Summarize(self):    \n",
        "    model_name = \"google/pegasus-xsum\"\n",
        "    pegasus_model = PegasusForConditionalGeneration.from_pretrained(model_name).to(device)\n",
        "    tokenizer = PegasusTokenizer.from_pretrained(model_name)\n",
        "    tokens = tokenizer(self.input_text, batched=True, truncation=True, padding='longest', return_tensors='pt').to(device)\n",
        "    # new set of token sequences generated\n",
        "    summary = pegasus_model.generate(**tokens)\n",
        "    decoded_summary = tokenizer.decode(summary[0])\n",
        "\n",
        "    return decoded_summary"
      ],
      "metadata": {
        "id": "gPC93MlyYPXn"
      },
      "execution_count": null,
      "outputs": []
    },
    {
      "cell_type": "code",
      "source": [
        "from transformers import Trainer, TrainingArguments, PegasusTokenizer, DataCollatorWithPadding\n",
        "from datasets import load_dataset\n",
        "\n",
        "# probably using CSV?\n",
        "# Need to create dataset based off of lecture files and find a way to summarize\n",
        "class PegasusTraining:\n",
        "  def __init__(self, dataset_path):\n",
        "    self.dataset_name=dataset_path\n",
        "\n",
        "  def preprocess(data):\n",
        "      return tokenizer(data[\"text\"], truncation=True)\n",
        "  \n",
        "  def TrainModel:\n",
        "    pegasus_training_model=PegasusForConditionalGeneration.from_pretrained(model_name, num_labels=2).to(device)\n",
        "\n",
        "    summarization_dataset = load_dataset(\"csv\", data_files=self.datasetpath, sep=\";\")\n",
        "    summarization_dataset[\"train\"][0]\n",
        "    tokenizer = PegasusTokenizer.from_pretrained(\"google/pegasus-xsum\")\n",
        "    tokenized_dataset = summarization_dataset.map(preprocess, batched=True)\n",
        "    data_collator = DataCollatorWithPadding(tokenizer=tokenizer)\n",
        "\n",
        "\n",
        "    training_args = TrainingArguments(\n",
        "        output_dir=\"./results\",\n",
        "        learning_rate=2e-5,\n",
        "        per_device_train_batch_size=16,     # need to clarify args to fit our needs\n",
        "        per_device_eval_batch_size=16,      # Also need to setup instantiation\n",
        "        num_train_epochs=5,\n",
        "        weight_decay=0.01,\n",
        "    )\n",
        "\n",
        "    trainer = Trainer(\n",
        "        model=pegasus_training_model,\n",
        "        args=training_args,\n",
        "        train_dataset=tokenized_\n",
        "        # training dataset\n",
        "        [\"train\"],\n",
        "        eval_dataset=tokenized_\n",
        "        # training dataset\n",
        "        [\"test\"],\n",
        "        tokenizer=tokenizer,\n",
        "        data_collator=data_collator,\n",
        "    )\n",
        "\n",
        "    trainer.train()"
      ],
      "metadata": {
        "id": "LmvMrC1K7QkU"
      },
      "execution_count": null,
      "outputs": []
    },
    {
      "cell_type": "code",
      "source": [
        "!nvidia-smi\n"
      ],
      "metadata": {
        "colab": {
          "base_uri": "https://localhost:8080/"
        },
        "id": "bRi-9EkvjggT",
        "outputId": "64e1896d-5d02-42e7-f0a4-4f715803c683"
      },
      "execution_count": null,
      "outputs": [
        {
          "output_type": "stream",
          "name": "stdout",
          "text": [
            "Sat Mar 12 05:16:48 2022       \n",
            "+-----------------------------------------------------------------------------+\n",
            "| NVIDIA-SMI 460.32.03    Driver Version: 460.32.03    CUDA Version: 11.2     |\n",
            "|-------------------------------+----------------------+----------------------+\n",
            "| GPU  Name        Persistence-M| Bus-Id        Disp.A | Volatile Uncorr. ECC |\n",
            "| Fan  Temp  Perf  Pwr:Usage/Cap|         Memory-Usage | GPU-Util  Compute M. |\n",
            "|                               |                      |               MIG M. |\n",
            "|===============================+======================+======================|\n",
            "|   0  Tesla K80           Off  | 00000000:00:04.0 Off |                    0 |\n",
            "| N/A   32C    P8    29W / 149W |      0MiB / 11441MiB |      0%      Default |\n",
            "|                               |                      |                  N/A |\n",
            "+-------------------------------+----------------------+----------------------+\n",
            "                                                                               \n",
            "+-----------------------------------------------------------------------------+\n",
            "| Processes:                                                                  |\n",
            "|  GPU   GI   CI        PID   Type   Process name                  GPU Memory |\n",
            "|        ID   ID                                                   Usage      |\n",
            "|=============================================================================|\n",
            "|  No running processes found                                                 |\n",
            "+-----------------------------------------------------------------------------+\n"
          ]
        }
      ]
    },
    {
      "cell_type": "code",
      "source": [
        ""
      ],
      "metadata": {
        "id": "j0VoRVOwjhuf"
      },
      "execution_count": null,
      "outputs": []
    }
  ]
}